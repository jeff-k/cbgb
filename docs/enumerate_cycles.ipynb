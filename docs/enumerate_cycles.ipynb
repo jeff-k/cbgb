{
 "cells": [
  {
   "cell_type": "markdown",
   "metadata": {},
   "source": [
    "# Enumerating Eulerian cycles in de Bruijn graphs"
   ]
  },
  {
   "cell_type": "code",
   "execution_count": 3,
   "metadata": {},
   "outputs": [
    {
     "name": "stdout",
     "output_type": "stream",
     "text": [
      "2-mer:\t$pointy-nointyes anoint \\ ey my anointy-pointy \\ po oird \\ binty$pointy bird \\ o pointy-pointy \\ anoint my eyes \\ anointy-nointy\n",
      "3-mer:\t$pointy-nointy eyes \\ anoint my \\ anointy-pointy bird \\ o point$y\n",
      "4-mer:\t$pointy-nointy \\ anoint my eyes \\ anointy-pointy bird \\ o poin$ty\n",
      "5-mer:\t$pointy-nointy \\ anoint my eyes \\ anointy-pointy bird \\ o poi$nty\n",
      "6-mer:\t$pointy-nointy \\ anoint my eyes \\ anointy-pointy bird \\ o po$inty\n",
      "7-mer:\t$pointy \\ anoint my eyes \\ anointy-pointy bird \\ o pointy-n$ointy\n",
      "8-mer:\t$pointy bird \\ o pointy-pointy \\ anoint my eyes \\ anointy-$nointy\n",
      "9-mer:\t$pointy bird \\ o pointy-pointy \\ anoint my eyes \\ anointy$-nointy\n"
     ]
    }
   ],
   "source": [
    "from cbgb.omfug import lnec\n",
    "from cbgb import CdB, kmerize, Edge\n",
    "\n",
    "seq = \"pointy bird \\ o pointy-pointy \\ anoint my eyes \\ anointy-nointy\"\n",
    "\n",
    "def join_walk(walk):\n",
    "    return ''.join(map(lambda c: c[:1], walk))\n",
    "\n",
    "for k in range(2, 10):\n",
    "    g = CdB()\n",
    "    for kmer in kmerize(seq, k=k):\n",
    "        g.add(kmer, Edge())\n",
    "    g.circularize()\n",
    "    walk = join_walk(g.walk(start=\"$\"))\n",
    "    print(\"{}-mer:\\t{}\".format(k, walk + seq[-(k-2):]))"
   ]
  },
  {
   "cell_type": "markdown",
   "metadata": {},
   "source": [
    "Note that we can calculate the log number of cycles with greater numerical stability by exploiting the $ln\\Gamma$ function:\n",
    "\n",
    "$$ ln(\\left | L_G^* \\right | \\prod_{v \\in G}(d^{+}(v)-1)!) = ln \\left | L_G^* \\right | + \\sum_{v \\in G} ln\\Gamma d^{+}(v) $$\n",
    "\n",
    "Where $\\left | L_G^* \\right |$ is the determinant of the laplacian of the adjacency matrix having had the row and column of a vertex removed. For an Eulerian graph any vertex will do. Similarly, in-degree equals out-degree for any vertex; $d^+(v) = d^-(v)$.\n",
    "\n",
    "And the number of Eulerian cycles grows exponentially in the number of bubbles."
   ]
  },
  {
   "cell_type": "code",
   "execution_count": 4,
   "metadata": {},
   "outputs": [
    {
     "name": "stdout",
     "output_type": "stream",
     "text": [
      "2-mer:\te^62.738516247050924 cycles\n",
      "3-mer:\te^33.7717247974044 cycles\n",
      "4-mer:\te^24.99524900805808 cycles\n",
      "5-mer:\te^17.317385507379875 cycles\n",
      "6-mer:\te^10.514990744055563 cycles\n",
      "7-mer:\te^4.564348191467836 cycles\n",
      "8-mer:\te^1.3862943611198904 cycles\n",
      "9-mer:\te^0.6931471805599453 cycles\n",
      "10-mer:\te^0.0 cycles\n"
     ]
    }
   ],
   "source": [
    "for k in range(2, 11):\n",
    "    g = CdB()\n",
    "    for kmer in kmerize(seq, k=k):\n",
    "        g.add(kmer, Edge())\n",
    "\n",
    "    g.circularize()\n",
    "    graph, _ = g.to_adj()\n",
    "    print(\"{}-mer:\\te^{} cycles\".format(k, lnec(graph)))"
   ]
  }
 ],
 "metadata": {
  "kernelspec": {
   "display_name": "Python 3",
   "language": "python",
   "name": "python3"
  },
  "language_info": {
   "codemirror_mode": {
    "name": "ipython",
    "version": 3
   },
   "file_extension": ".py",
   "mimetype": "text/x-python",
   "name": "python",
   "nbconvert_exporter": "python",
   "pygments_lexer": "ipython3",
   "version": "3.6.6"
  }
 },
 "nbformat": 4,
 "nbformat_minor": 2
}
